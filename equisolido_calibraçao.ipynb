{
 "cells": [
  {
   "cell_type": "markdown",
   "metadata": {},
   "source": [
    "### Testando o modo equisólido\n"
   ]
  },
  {
   "cell_type": "code",
   "execution_count": null,
   "metadata": {},
   "outputs": [],
   "source": [
    "import pvlib\n",
    "import matplotlib\n",
    "import pandas as pd\n",
    "import matplotlib.pyplot as plt\n",
    "import cv2\n",
    "import numpy as np\n",
    "%matplotlib inline\n",
    "import csv\n",
    "import scipy.misc\n",
    "import seaborn as sns\n",
    "from os import listdir\n",
    "from PIL import Image\n",
    "from PIL.ExifTags import TAGS\n",
    "from sklearn.linear_model import LinearRegression\n",
    "from pathlib import Path\n",
    "from os.path import isfile,join\n",
    "#from teste_calibraçao import *\n",
    "from pvlib import pvsystem,location,modelchain \n",
    "from pvlib import solarposition \n",
    "import time\n",
    "from scipy import stats \n",
    "from sklearn import datasets, linear_model , metrics\n",
    "from sklearn import linear_model\n",
    "from defisheye import Defisheye #retira a distorção associada as lentes all-sky\n",
    "import warnings\n",
    "import imghdr\n",
    "warnings.filterwarnings(\"ignore\")"
   ]
  },
  {
   "cell_type": "markdown",
   "metadata": {},
   "source": [
    "Recortando as imagens no formato equisólido"
   ]
  },
  {
   "cell_type": "code",
   "execution_count": null,
   "metadata": {},
   "outputs": [],
   "source": [
    "dtype ='equalarea'\n",
    "format ='circular'\n",
    "fov=180\n",
    "pfov=120\n",
    "xcenter = 768\n",
    "ycenter = 768\n",
    "angle = 287\n"
   ]
  },
  {
   "cell_type": "code",
   "execution_count": null,
   "metadata": {},
   "outputs": [],
   "source": [
    "os.getcwd() #Saber qual diretório estou e o caminho para ele"
   ]
  },
  {
   "cell_type": "code",
   "execution_count": null,
   "metadata": {},
   "outputs": [],
   "source": [
    "##Ler e realizar o display da imagem\n",
    "from numpy import angle\n",
    "figuras = os.listdir('Imagens_ajuste_r2/')[0:74]\n",
    "print(figuras)\n",
    "#print(imagem)\n",
    "for imagem in figuras:\n",
    "    cortar = f'Imagens_equisolidas_{dtype}_{format}_{pfov}_{fov}_' + imagem\n",
    "    obj =Defisheye('Imagens_ajuste_r2/' + imagem,dtype=dtype,format=format,fov=fov,pfov=pfov,xcenter=xcenter,ycenter=ycenter,angle=angle)\n",
    "    obj.convert(cortar)\n",
    "    print(obj)\n"
   ]
  },
  {
   "cell_type": "markdown",
   "metadata": {},
   "source": [
    "Marcando a posição do sol na imagem e escodendo a posição do sol na imagem"
   ]
  },
  {
   "cell_type": "code",
   "execution_count": null,
   "metadata": {},
   "outputs": [],
   "source": [
    "cards=[]\n",
    "img = os.listdir('Imagens_equisolidas/')[0:74]\n",
    "print(img)\n",
    "for nome_imagem in img:\n",
    "    im =cv2.imread('Imagens_equisolidas/' + nome_imagem)\n",
    "    im =cv2.flip(im,1)  \n",
    "    print(im)\n",
    "\n",
    "    red=im[:,:,2]\n",
    "    limite = 254\n",
    "    nred = np.where(red > limite , red, 0)\n",
    "    #print(nred)\n",
    "    z = np.where(nred >0 ) #Pontos onde os valores de nred forem maiores que 0\n",
    "    #print('Quantidade de pontos acima do limite', limite, '=', z[0].size)\n",
    "    #identificando posições em que a componente vermelha seja superior ao limite\n",
    "    z = np.where(red>limite)\n",
    "    #print(z)\n",
    "    length = np.shape(z)[1]\n",
    "    #print('O tamanho é igual a:' , length)\n",
    "    xc = int(z[0].mean())\n",
    "    yc = int(z[1].mean())\n",
    "    print('posição do centroide = (',xc,yc,') , quantidade de pontos acima do limite:', length)\n",
    "    \n",
    "    dist = (((z[0]-int(z[0].mean()))**2)+((z[1]-int(z[1].mean()))**2))**0.5\n",
    "    \n",
    "    temp = np.where(dist<=np.median(dist))\n",
    "    np.percentile(dist,75)\n",
    "\n",
    "    percentil = 90\n",
    "    temp= np.where(dist <= np.percentile(dist,percentil))\n",
    "    #print(r)\n",
    "    j=0\n",
    "    ndist=np.zeros(np.shape(temp)[1])\n",
    "    z2 = [np.zeros(np.shape(temp)[1], dtype=int), np.zeros(np.shape(temp)[1], dtype=int)]\n",
    "\n",
    "    Limite_d = np.percentile(dist,percentil)\n",
    "    #print (Limite_d)\n",
    "    for i in range(0,int(length)):\n",
    "        if dist[i] <= Limite_d:\n",
    "            ndist[j]=dist[i]\n",
    "            z2[0][j]=int(z[0][i])\n",
    "            z2[1][j]=int(z[1][i])\n",
    "            j=j+1\n",
    "\n",
    "    ## Centroide atualizado\n",
    "    xc_z2 = int(z2[0].mean())\n",
    "    yc_z2 = int(z2[1].mean())\n",
    "    print('Centroide atualizado= (',xc_z2,yc_z2,')')\n",
    "\n",
    "    nnread = im\n",
    "    print(xc_z2,yc_z2)\n",
    "    #for i in range(0,len(z2[0])):\n",
    "    #    nnread[z2[0][i],z2[1][i],[2,1,0]]=0\n",
    "    plt.figure(figsize=(12,12))\n",
    "    plt.xlabel('Posição em Y')\n",
    "    plt.ylabel('Posição em X')\n",
    "    plt.title('Calibrada ' + nome_imagem)\n",
    "    plt.scatter(x=yc_z2, y=xc_z2, c='r', s=100)\n",
    "    plt.imshow(im[:,:,[2,1,0]])\n",
    "    plt.savefig('Calibra_recortada/' + 'calibrada_defisheye' + nome_imagem)\n",
    "    plt.show()\n",
    "\n",
    "\n",
    "    window_name = 'Imagem'\n",
    "    center_coodinates =(yc_z2,xc_z2) #teve que inverter os pontos\n",
    "    radius = 140\n",
    "    color = (0,0,0)\n",
    "    thickness= -1\n",
    "    im = cv2.circle(im,center_coodinates,radius,color,thickness)\n",
    "    plt.figure(figsize=(12,12))\n",
    "    plt.xlabel('Posição em Y')\n",
    "    plt.ylabel('Posição em X')\n",
    "    plt.imshow(im[:,:,[2,1,0]])\n",
    "    #cv2.imshow('Imagem espelhada', im)\n",
    "    plt.savefig('sol_encoberto/' + 'area_140' +nome_imagem)\n",
    "    plt.show()\n",
    "\n",
    "\n",
    "    ### Definir a área circular do R fixo para plotar o circulo\n",
    "    #window_name = 'Imagem'\n",
    "    #center_coodinates =(yc_z2,xc_z2) #teve que inverter os pontos\n",
    "    #radius = 140\n",
    "    #color = (0,0,0)\n",
    "    #thickness= -1\n",
    "    #im = cv2.circle(im,center_coodinates,radius,color,thickness)\n",
    "    #plt.figure(figsize=(12,12))\n",
    "    #plt.xlabel('Posição em Y')\n",
    "    #plt.ylabel('Posição em X')\n",
    "    #plt.imshow(im[:,:,[2,1,0]])\n",
    "    ##cv2.imshow('Imagem espelhada', im)\n",
    "    #plt.savefig('Calibracao_Algoritmo/' + 'area_140' +figura)\n",
    "    #plt.show()\n",
    "    \n",
    "    card = {}\n",
    "    card['num linhas'] = im.shape[0]\n",
    "    card['num colunas'] = im.shape[1]\n",
    "    card['num canais'] = im.shape[2]\n",
    "    card[\"Endereço da imagem\"] = \"Calibração Recortada\" + nome_imagem\n",
    "    card[\"Posição em X\"] = yc_z2\n",
    "    card[\"Posição em Y\"] = xc_z2\n",
    "    card[\"Posição em X²\"] = (yc_z2)**2\n",
    "    card['Posição em Y²'] = (xc_z2)**2\n",
    "    card['Posição em X afetada']= yc\n",
    "    card['Posição em Y afetada']= xc\n",
    "    card['Distancia máxima'] = ndist.max()\n",
    "    card['Distancia média'] = dist.mean()\n",
    "    card['Distância mínima'] = ndist.min()\n",
    "    card['Valor de R'] = temp\n",
    "    cards.append(card)\n"
   ]
  },
  {
   "cell_type": "code",
   "execution_count": null,
   "metadata": {},
   "outputs": [],
   "source": [
    "df_info_defisheye= pd.DataFrame(cards)\n",
    "df_info_defisheye\n",
    "df_info_defisheye.to_csv(r'informações_defisheye.csv', index  = False)"
   ]
  },
  {
   "cell_type": "code",
   "execution_count": null,
   "metadata": {},
   "outputs": [],
   "source": [
    "df_info_defisheye"
   ]
  },
  {
   "cell_type": "markdown",
   "metadata": {},
   "source": [
    "### Organizando os blocos de tempo para todo o período"
   ]
  },
  {
   "cell_type": "markdown",
   "metadata": {},
   "source": [
    "Calculando o zênite e o azimute da imagem recortada"
   ]
  },
  {
   "cell_type": "code",
   "execution_count": null,
   "metadata": {},
   "outputs": [],
   "source": [
    "import pytz\n",
    "pytz.all_timezones"
   ]
  },
  {
   "cell_type": "code",
   "execution_count": null,
   "metadata": {},
   "outputs": [],
   "source": [
    "time_1= pd.date_range(start='2020-03-17 11:30:00', end='2020-03-17 12:30:00', periods=3, tz='America/Fortaleza')\n",
    "time_2= pd.date_range(start='2020-03-18 12:00:00', end='2020-03-18 12:30:00', periods=2, tz='America/Fortaleza')\n",
    "time_3= pd.date_range(start='2020-03-21 11:30:00', end='2020-03-21 12:30:00', periods=3, tz='America/Fortaleza')\n",
    "time_4= pd.date_range(start='2020-03-26 12:00:00', end='2020-03-26 13:30:00', periods=4, tz='America/Fortaleza')\n",
    "time_5= pd.date_range(start='2020-07-03 12:00:00', end='2020-07-03 15:00:00', periods=7, tz='America/Fortaleza')\n",
    "time_6= pd.date_range(start='2020-07-07 12:00:00', end='2020-07-07 16:00:00', periods=9, tz='America/Fortaleza')\n",
    "time_7= pd.date_range(start='2020-07-08 11:30:00', end='2020-07-08 16:00:00', periods=10, tz='America/Fortaleza')\n",
    "time_8= pd.date_range(start='2020-07-13 12:00:00', end='2020-07-13 16:00:00', periods=9, tz='America/Fortaleza')\n",
    "time_9= pd.date_range(start='2020-07-24 11:30:00', end='2020-07-24 15:30:00', periods=9, tz='America/Fortaleza')\n",
    "time_10= pd.date_range(start='2020-07-28 12:30:00', end='2020-07-28 16:00:00', periods=8, tz='America/Fortaleza')\n",
    "time_11= pd.date_range(start='2020-07-30 11:30:00', end='2020-07-30 16:00:00', periods=10, tz='America/Fortaleza')"
   ]
  },
  {
   "cell_type": "code",
   "execution_count": null,
   "metadata": {},
   "outputs": [],
   "source": [
    "list_times = list([time_1,time_2,time_3,time_4,time_5,time_6,time_7,time_8,time_9,time_10,time_11])\n",
    "len(list_times) #descobrir o tamanho da lista"
   ]
  },
  {
   "cell_type": "code",
   "execution_count": null,
   "metadata": {},
   "outputs": [],
   "source": [
    "list_times"
   ]
  },
  {
   "cell_type": "code",
   "execution_count": null,
   "metadata": {},
   "outputs": [],
   "source": [
    "df_za = pd.DataFrame()\n",
    "for time in list_times:\n",
    "    data_az= solarposition.get_solarposition(time, -5.79, -35.21, altitude=0, pressure=101325)\n",
    "    data_az = data_az.loc[data_az['apparent_elevation'] > 0 ,:]\n",
    "    ax  = plt.subplot(1,1,1, projection ='polar')\n",
    "\n",
    "    # draw the analemma loops\n",
    "    points = ax.scatter(np.radians(data_az.azimuth), data_az.apparent_zenith,\n",
    "                    s=2, label=None, c=data_az.index.dayofyear)\n",
    "    ax.figure.colorbar(points)\n",
    "\n",
    "    # draw hour labels\n",
    "    for hour in np.unique(data_az.index.hour):\n",
    "        # choose label position by the smallest radius for each hour \n",
    "        subset = data_az.loc[data_az.index.hour == hour, :]\n",
    "        r = subset.apparent_zenith\n",
    "        pos = data_az.loc[r.idxmin(), :]\n",
    "        ax.text(np.radians(pos['azimuth']), pos['apparent_zenith'], str(hour))\n",
    "\n",
    "\n",
    "    ax.figure.legend(loc='upper left')\n",
    "    ax.set_theta_zero_location('N')\n",
    "    ax.set_theta_direction(-1)\n",
    "    ax.set_rmax(90)\n",
    "\n",
    "    plt.show()\n",
    "\n",
    "    data_az['time'] = time\n",
    "    \n",
    "    df_za = pd.concat([df_za,data_az], axis=0)\n",
    "    \n",
    "df_za.to_csv('azimuth_and_zenith_calibration_new.csv', index = False) # concatenaçao a cada data_az criado (pd.concat)\n",
    "print('A localização do sol na imagem é: ' , df_za)"
   ]
  },
  {
   "cell_type": "code",
   "execution_count": null,
   "metadata": {},
   "outputs": [],
   "source": [
    "df_za.shape #saber o tamanho da variável"
   ]
  },
  {
   "cell_type": "code",
   "execution_count": null,
   "metadata": {},
   "outputs": [],
   "source": [
    "df_za"
   ]
  },
  {
   "cell_type": "code",
   "execution_count": null,
   "metadata": {},
   "outputs": [],
   "source": [
    "df_za['azimuth_convert']=df_za['azimuth'] - 360\n",
    "df_za\n"
   ]
  },
  {
   "cell_type": "code",
   "execution_count": null,
   "metadata": {},
   "outputs": [],
   "source": [
    "df_info_defisheye = pd.DataFrame(cards)\n",
    "df_info_defisheye['Posição em X com base nas linhas'] = (df_info_defisheye['Posição em X'] - (df_info_defisheye['num linhas']/2))\n",
    "df_info_defisheye['Posição em Y com base nas colunas'] = (df_info_defisheye['Posição em Y'] - (df_info_defisheye['num colunas']/2))\n",
    "df_info_defisheye"
   ]
  },
  {
   "cell_type": "markdown",
   "metadata": {},
   "source": [
    "Organizando as informações do Data Frame"
   ]
  },
  {
   "cell_type": "code",
   "execution_count": null,
   "metadata": {},
   "outputs": [],
   "source": [
    "df_info_defisheye['hipotenusa'] = (df_info_defisheye['Posição em X com base nas linhas'])**2 + (df_info_defisheye['Posição em Y com base nas colunas'])**2\n",
    "df_info_defisheye['raiz_hipotenusa'] = df_info_defisheye['hipotenusa'] ** 0.5\n",
    "df_info_defisheye['cos_phi'] = df_info_defisheye['Posição em X com base nas linhas'] / df_info_defisheye['raiz_hipotenusa']\n",
    "df_info_defisheye['cos_phi']\n",
    "df_info_defisheye['sen_phi'] = df_info_defisheye['Posição em Y com base nas colunas']/ df_info_defisheye['raiz_hipotenusa']\n",
    "df_info_defisheye['sen_phi']\n",
    "df_info_defisheye['tg_phi'] = df_info_defisheye['sen_phi'] /df_info_defisheye['cos_phi']\n",
    "df_info_defisheye['tg_phi']\n",
    "arc_tg = np.array(df_info_defisheye['tg_phi'])\n",
    "arc_tg\n",
    "df_info_defisheye['arctg_phi'] = np.arctan(arc_tg) \n"
   ]
  },
  {
   "cell_type": "code",
   "execution_count": null,
   "metadata": {},
   "outputs": [],
   "source": [
    "df_info_defisheye"
   ]
  },
  {
   "cell_type": "code",
   "execution_count": null,
   "metadata": {},
   "outputs": [],
   "source": [
    "df_info_defisheye.shape"
   ]
  },
  {
   "cell_type": "code",
   "execution_count": null,
   "metadata": {},
   "outputs": [],
   "source": [
    "df_info_defisheye.to_csv(r'informações_defisheye.csv', index  = False)"
   ]
  },
  {
   "cell_type": "code",
   "execution_count": null,
   "metadata": {},
   "outputs": [],
   "source": [
    "df_za.to_csv(r'Zenite_Azimute_im_recortada.csv', index = False)"
   ]
  },
  {
   "cell_type": "markdown",
   "metadata": {},
   "source": [
    "Unindo as informações do sol na imagem com a posição com base no zênte e no azimute"
   ]
  },
  {
   "cell_type": "code",
   "execution_count": null,
   "metadata": {},
   "outputs": [],
   "source": [
    "df_defisieye_zen_azim = pd.concat([df_info_defisheye,df_za], axis = 0)"
   ]
  },
  {
   "cell_type": "code",
   "execution_count": null,
   "metadata": {},
   "outputs": [],
   "source": [
    "df_defisieye_zen_azim"
   ]
  },
  {
   "cell_type": "code",
   "execution_count": null,
   "metadata": {},
   "outputs": [],
   "source": [
    "df_defisieye_zen_azim.to_csv(r'Defisheye_zen_azim.csv', index = False)"
   ]
  },
  {
   "cell_type": "markdown",
   "metadata": {},
   "source": [
    "### Regressão Linear para avaliar o ajuste"
   ]
  },
  {
   "cell_type": "markdown",
   "metadata": {},
   "source": [
    "Criando a coluna da posição do sol na imagem e teta/2"
   ]
  },
  {
   "cell_type": "code",
   "execution_count": null,
   "metadata": {},
   "outputs": [],
   "source": [
    "zenite = np.array(np.sin((df_za['zenith'])*np.pi/360))\n",
    "sol_defish = np.array(df_info_defisheye['raiz_hipotenusa'])\n",
    "print(zenite)\n",
    "print(sol_defish)"
   ]
  },
  {
   "cell_type": "code",
   "execution_count": null,
   "metadata": {},
   "outputs": [],
   "source": [
    "sol_defish.shape"
   ]
  },
  {
   "cell_type": "code",
   "execution_count": null,
   "metadata": {},
   "outputs": [],
   "source": [
    "cards = []\n",
    "regressao = linear_model.LinearRegression()\n",
    "zenite = zenite.reshape(-1,1)\n",
    "print(zenite)\n",
    "regressao.fit(zenite,sol_defish)\n",
    "\n",
    "correlacao_zsol = regressao.score(zenite,sol_defish)\n",
    "print('o valor da correlação é:', correlacao_zsol)\n",
    "k1 = regressao.coef_\n",
    "print('o valor do coeficiente, ou seja, k1 é:', k1)\n",
    "k2 = regressao.intercept_\n",
    "print('O valor do intercepto, ou seja, k2 é:', k2)\n",
    "\n",
    "card ={}\n",
    "card['Correlação'] = correlacao_zsol\n",
    "card['Coeficiente = K1'] = k1\n",
    "card['Intercepto = K2'] = k2\n",
    "cards.append(card)\n",
    "\n",
    "df_regr_ajustado = pd.DataFrame(cards)\n",
    "df_regr_ajustado\n",
    "\n",
    "df_regr_ajustado.to_csv(r'score_coeficiente_intercepto_defisheye.csv', index = False)\n"
   ]
  },
  {
   "cell_type": "code",
   "execution_count": null,
   "metadata": {},
   "outputs": [],
   "source": [
    "sns.regplot(zenite,sol_defish, ci=None)\n",
    "\n",
    "plt.xlabel('Sen (θ/2)')\n",
    "plt.ylabel('Posição do sol (rad)')\n",
    "plt.savefig('Regressões/' + \"Reg_defisheye_zen_azi\" )\n",
    "\n",
    "plt.show()"
   ]
  }
 ],
 "metadata": {
  "kernelspec": {
   "display_name": "Python 3.9.7 ('base')",
   "language": "python",
   "name": "python3"
  },
  "language_info": {
   "codemirror_mode": {
    "name": "ipython",
    "version": 3
   },
   "file_extension": ".py",
   "mimetype": "text/x-python",
   "name": "python",
   "nbconvert_exporter": "python",
   "pygments_lexer": "ipython3",
   "version": "3.9.7"
  },
  "orig_nbformat": 4,
  "vscode": {
   "interpreter": {
    "hash": "06bf36fb573a6d2929cf8017bc133d662298ea00712ccceea70a1bf246914f22"
   }
  }
 },
 "nbformat": 4,
 "nbformat_minor": 2
}
